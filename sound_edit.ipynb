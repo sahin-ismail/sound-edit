{
 "cells": [
  {
   "cell_type": "code",
   "execution_count": 1,
   "metadata": {},
   "outputs": [
    {
     "name": "stderr",
     "output_type": "stream",
     "text": [
      "C:\\Users\\ismail\\Anaconda3\\lib\\site-packages\\pydub\\utils.py:165: RuntimeWarning: Couldn't find ffmpeg or avconv - defaulting to ffmpeg, but may not work\n",
      "  warn(\"Couldn't find ffmpeg or avconv - defaulting to ffmpeg, but may not work\", RuntimeWarning)\n"
     ]
    }
   ],
   "source": [
    "from pydub import AudioSegment\n",
    "import os\n",
    "from pprint import pprint\n",
    "\n",
    "#write path of your sounds where you see \"sounds\"\n",
    "\n",
    "def detect_leading_silence(sound, silence_threshold=-50.0, chunk_size=10):\n",
    "    trim_ms = 0 # ms\n",
    "\n",
    "    assert chunk_size > 0\n",
    "    while sound[trim_ms:trim_ms+chunk_size].dBFS < silence_threshold and trim_ms < len(sound):\n",
    "        trim_ms += chunk_size\n",
    "\n",
    "    return trim_ms\n",
    "dirlist = os.listdir(\"sounds\")\n",
    "os.mkdir(\"editted_sounds\")\n",
    "i = 0\n",
    "while i < len(dirlist):\n",
    "    sound = AudioSegment.from_file(\"sounds\\\\\"+dirlist[i], format=\"wav\")\n",
    "\n",
    "    start_trim = detect_leading_silence(sound)\n",
    "    end_trim = detect_leading_silence(sound.reverse())\n",
    "\n",
    "    duration = len(sound)    \n",
    "    trimmed_sound = sound[start_trim:duration-end_trim]\n",
    "\n",
    "    half_sec_pause = AudioSegment.silent(duration=500)\n",
    "    last = half_sec_pause + trimmed_sound + half_sec_pause\n",
    "    \n",
    "    last.export(\"editted_sounds\\\\\"+dirlist[i], format=\"wav\")\n",
    "    i = i+1"
   ]
  },
  {
   "cell_type": "code",
   "execution_count": null,
   "metadata": {},
   "outputs": [],
   "source": []
  }
 ],
 "metadata": {
  "kernelspec": {
   "display_name": "Python 3",
   "language": "python",
   "name": "python3"
  },
  "language_info": {
   "codemirror_mode": {
    "name": "ipython",
    "version": 3
   },
   "file_extension": ".py",
   "mimetype": "text/x-python",
   "name": "python",
   "nbconvert_exporter": "python",
   "pygments_lexer": "ipython3",
   "version": "3.7.3"
  }
 },
 "nbformat": 4,
 "nbformat_minor": 2
}
